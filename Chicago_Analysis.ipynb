{
 "cells": [
  {
   "cell_type": "markdown",
   "id": "54b95c15",
   "metadata": {},
   "source": [
    "# CHICAGO CRIME ANALYSIS (2021)"
   ]
  },
  {
   "cell_type": "markdown",
   "id": "6637c278",
   "metadata": {},
   "source": [
    "## Contents\n",
    "\n",
    "* [Introduction](#Introduction)\n",
    "\n",
    "* [Importing Libraries](#Importing-Libraries)\n",
    "\n",
    "* [Data Wrangling](#Data-Wrangling)\n",
    "\n",
    "* [Exploratory Data Analysis](#Exploratory-Data-Analysis) \n",
    "\n",
    "* [Conclusions](#Conclusions)"
   ]
  },
  {
   "cell_type": "markdown",
   "id": "81155a9f",
   "metadata": {},
   "source": [
    "##  Introduction\n",
    "This project focused on analysing crime data of the City of Chicago for the year 2021. Datasets used in this project include Chicago crime data (each row is a reported crime), Chicago community population data, Chicago community boundaries, and socio-economic indicators. In this project, the following questions will be answered:\n",
    "* How did crime change over time?\n",
    "* What are the top 5 crime by primary type?\n",
    "* How many arrests were made?\n",
    "* What is the crime rate in each community?\n",
    "* What is the relationship between crime rate and unemployment?"
   ]
  },
  {
   "cell_type": "markdown",
   "id": "edca40fb",
   "metadata": {},
   "source": [
    "## Importing Libraries"
   ]
  },
  {
   "cell_type": "code",
   "execution_count": 34,
   "id": "64d018b9",
   "metadata": {},
   "outputs": [],
   "source": [
    "import pandas as pd # for data analysis and manipulation\n",
    "import geopandas as gpd # for spatial analysis\n",
    "import matplotlib.pyplot as plt # for visualisation\n",
    "import numpy as np  "
   ]
  },
  {
   "cell_type": "code",
   "execution_count": 3,
   "id": "2fbed46e",
   "metadata": {},
   "outputs": [],
   "source": [
    "# reading datasets into dataframe/geodataframe\n",
    "crime = pd.read_csv('Crimes_-_2021.csv') # crime dataset\n",
    "community = gpd.read_file('Community_Area.geojson') # community boundaries dataset, a spatial (polygon) dataset\n",
    "population = pd.read_csv('Population.csv') # 2020 population dataset\n",
    "indicator = pd.read_csv('indicators.csv') # socio economic indicators, including unemployment percentage"
   ]
  },
  {
   "cell_type": "markdown",
   "id": "1f7aba3d",
   "metadata": {},
   "source": [
    "# Data Wrangling"
   ]
  },
  {
   "cell_type": "code",
   "execution_count": 4,
   "id": "0e7cde45",
   "metadata": {},
   "outputs": [
    {
     "data": {
      "text/html": [
       "<div>\n",
       "<style scoped>\n",
       "    .dataframe tbody tr th:only-of-type {\n",
       "        vertical-align: middle;\n",
       "    }\n",
       "\n",
       "    .dataframe tbody tr th {\n",
       "        vertical-align: top;\n",
       "    }\n",
       "\n",
       "    .dataframe thead th {\n",
       "        text-align: right;\n",
       "    }\n",
       "</style>\n",
       "<table border=\"1\" class=\"dataframe\">\n",
       "  <thead>\n",
       "    <tr style=\"text-align: right;\">\n",
       "      <th></th>\n",
       "      <th>ID</th>\n",
       "      <th>Case Number</th>\n",
       "      <th>Date</th>\n",
       "      <th>Block</th>\n",
       "      <th>IUCR</th>\n",
       "      <th>Primary Type</th>\n",
       "      <th>Description</th>\n",
       "      <th>Location Description</th>\n",
       "      <th>Arrest</th>\n",
       "      <th>Domestic</th>\n",
       "      <th>...</th>\n",
       "      <th>Ward</th>\n",
       "      <th>Community Area</th>\n",
       "      <th>FBI Code</th>\n",
       "      <th>X Coordinate</th>\n",
       "      <th>Y Coordinate</th>\n",
       "      <th>Year</th>\n",
       "      <th>Updated On</th>\n",
       "      <th>Latitude</th>\n",
       "      <th>Longitude</th>\n",
       "      <th>Location</th>\n",
       "    </tr>\n",
       "  </thead>\n",
       "  <tbody>\n",
       "    <tr>\n",
       "      <th>0</th>\n",
       "      <td>12260346</td>\n",
       "      <td>JE102126</td>\n",
       "      <td>01/03/2021 01:23:00 PM</td>\n",
       "      <td>070XX S EGGLESTON AVE</td>\n",
       "      <td>0486</td>\n",
       "      <td>BATTERY</td>\n",
       "      <td>DOMESTIC BATTERY SIMPLE</td>\n",
       "      <td>APARTMENT</td>\n",
       "      <td>False</td>\n",
       "      <td>True</td>\n",
       "      <td>...</td>\n",
       "      <td>6.0</td>\n",
       "      <td>68</td>\n",
       "      <td>08B</td>\n",
       "      <td>1174496.0</td>\n",
       "      <td>1858251.0</td>\n",
       "      <td>2021</td>\n",
       "      <td>01/16/2021 03:49:23 PM</td>\n",
       "      <td>41.766435</td>\n",
       "      <td>-87.635964</td>\n",
       "      <td>(41.766435144, -87.635963997)</td>\n",
       "    </tr>\n",
       "    <tr>\n",
       "      <th>1</th>\n",
       "      <td>12263464</td>\n",
       "      <td>JE105797</td>\n",
       "      <td>01/03/2021 06:59:00 AM</td>\n",
       "      <td>080XX S YALE AVE</td>\n",
       "      <td>0820</td>\n",
       "      <td>THEFT</td>\n",
       "      <td>$500 AND UNDER</td>\n",
       "      <td>RESIDENCE</td>\n",
       "      <td>False</td>\n",
       "      <td>False</td>\n",
       "      <td>...</td>\n",
       "      <td>17.0</td>\n",
       "      <td>44</td>\n",
       "      <td>06</td>\n",
       "      <td>1176011.0</td>\n",
       "      <td>1851718.0</td>\n",
       "      <td>2021</td>\n",
       "      <td>01/16/2021 03:49:23 PM</td>\n",
       "      <td>41.748474</td>\n",
       "      <td>-87.630607</td>\n",
       "      <td>(41.748473982, -87.630606588)</td>\n",
       "    </tr>\n",
       "    <tr>\n",
       "      <th>2</th>\n",
       "      <td>12259990</td>\n",
       "      <td>JE101773</td>\n",
       "      <td>01/03/2021 12:20:00 AM</td>\n",
       "      <td>056XX W WASHINGTON BLVD</td>\n",
       "      <td>0486</td>\n",
       "      <td>BATTERY</td>\n",
       "      <td>DOMESTIC BATTERY SIMPLE</td>\n",
       "      <td>APARTMENT</td>\n",
       "      <td>False</td>\n",
       "      <td>True</td>\n",
       "      <td>...</td>\n",
       "      <td>29.0</td>\n",
       "      <td>25</td>\n",
       "      <td>08B</td>\n",
       "      <td>1138722.0</td>\n",
       "      <td>1900183.0</td>\n",
       "      <td>2021</td>\n",
       "      <td>01/16/2021 03:49:23 PM</td>\n",
       "      <td>41.882224</td>\n",
       "      <td>-87.766076</td>\n",
       "      <td>(41.88222427, -87.766076162)</td>\n",
       "    </tr>\n",
       "  </tbody>\n",
       "</table>\n",
       "<p>3 rows × 22 columns</p>\n",
       "</div>"
      ],
      "text/plain": [
       "         ID Case Number                    Date                    Block  \\\n",
       "0  12260346    JE102126  01/03/2021 01:23:00 PM    070XX S EGGLESTON AVE   \n",
       "1  12263464    JE105797  01/03/2021 06:59:00 AM         080XX S YALE AVE   \n",
       "2  12259990    JE101773  01/03/2021 12:20:00 AM  056XX W WASHINGTON BLVD   \n",
       "\n",
       "   IUCR Primary Type              Description Location Description  Arrest  \\\n",
       "0  0486      BATTERY  DOMESTIC BATTERY SIMPLE            APARTMENT   False   \n",
       "1  0820        THEFT           $500 AND UNDER            RESIDENCE   False   \n",
       "2  0486      BATTERY  DOMESTIC BATTERY SIMPLE            APARTMENT   False   \n",
       "\n",
       "   Domestic  ...  Ward  Community Area  FBI Code  X Coordinate Y Coordinate  \\\n",
       "0      True  ...   6.0              68       08B     1174496.0    1858251.0   \n",
       "1     False  ...  17.0              44        06     1176011.0    1851718.0   \n",
       "2      True  ...  29.0              25       08B     1138722.0    1900183.0   \n",
       "\n",
       "   Year              Updated On   Latitude  Longitude  \\\n",
       "0  2021  01/16/2021 03:49:23 PM  41.766435 -87.635964   \n",
       "1  2021  01/16/2021 03:49:23 PM  41.748474 -87.630607   \n",
       "2  2021  01/16/2021 03:49:23 PM  41.882224 -87.766076   \n",
       "\n",
       "                        Location  \n",
       "0  (41.766435144, -87.635963997)  \n",
       "1  (41.748473982, -87.630606588)  \n",
       "2   (41.88222427, -87.766076162)  \n",
       "\n",
       "[3 rows x 22 columns]"
      ]
     },
     "execution_count": 4,
     "metadata": {},
     "output_type": "execute_result"
    }
   ],
   "source": [
    "# inspecting crime dataset\n",
    "crime.head(3)"
   ]
  },
  {
   "cell_type": "code",
   "execution_count": 5,
   "id": "b3616435",
   "metadata": {},
   "outputs": [
    {
     "data": {
      "text/html": [
       "<div>\n",
       "<style scoped>\n",
       "    .dataframe tbody tr th:only-of-type {\n",
       "        vertical-align: middle;\n",
       "    }\n",
       "\n",
       "    .dataframe tbody tr th {\n",
       "        vertical-align: top;\n",
       "    }\n",
       "\n",
       "    .dataframe thead th {\n",
       "        text-align: right;\n",
       "    }\n",
       "</style>\n",
       "<table border=\"1\" class=\"dataframe\">\n",
       "  <thead>\n",
       "    <tr style=\"text-align: right;\">\n",
       "      <th></th>\n",
       "      <th>No.</th>\n",
       "      <th>Name</th>\n",
       "      <th>Population</th>\n",
       "    </tr>\n",
       "  </thead>\n",
       "  <tbody>\n",
       "    <tr>\n",
       "      <th>0</th>\n",
       "      <td>1</td>\n",
       "      <td>Rogers Park</td>\n",
       "      <td>55628</td>\n",
       "    </tr>\n",
       "    <tr>\n",
       "      <th>1</th>\n",
       "      <td>2</td>\n",
       "      <td>West Ridge</td>\n",
       "      <td>77122</td>\n",
       "    </tr>\n",
       "    <tr>\n",
       "      <th>2</th>\n",
       "      <td>3</td>\n",
       "      <td>Uptown</td>\n",
       "      <td>57182</td>\n",
       "    </tr>\n",
       "  </tbody>\n",
       "</table>\n",
       "</div>"
      ],
      "text/plain": [
       "   No.         Name  Population\n",
       "0    1  Rogers Park       55628\n",
       "1    2   West Ridge       77122\n",
       "2    3       Uptown       57182"
      ]
     },
     "execution_count": 5,
     "metadata": {},
     "output_type": "execute_result"
    }
   ],
   "source": [
    "# inspecting population dataset\n",
    "population.head(3)"
   ]
  },
  {
   "cell_type": "code",
   "execution_count": 6,
   "id": "e81262cf",
   "metadata": {},
   "outputs": [
    {
     "data": {
      "text/html": [
       "<div>\n",
       "<style scoped>\n",
       "    .dataframe tbody tr th:only-of-type {\n",
       "        vertical-align: middle;\n",
       "    }\n",
       "\n",
       "    .dataframe tbody tr th {\n",
       "        vertical-align: top;\n",
       "    }\n",
       "\n",
       "    .dataframe thead th {\n",
       "        text-align: right;\n",
       "    }\n",
       "</style>\n",
       "<table border=\"1\" class=\"dataframe\">\n",
       "  <thead>\n",
       "    <tr style=\"text-align: right;\">\n",
       "      <th></th>\n",
       "      <th>community</th>\n",
       "      <th>area</th>\n",
       "      <th>shape_area</th>\n",
       "      <th>perimeter</th>\n",
       "      <th>area_num_1</th>\n",
       "      <th>area_numbe</th>\n",
       "      <th>comarea_id</th>\n",
       "      <th>comarea</th>\n",
       "      <th>shape_len</th>\n",
       "      <th>geometry</th>\n",
       "    </tr>\n",
       "  </thead>\n",
       "  <tbody>\n",
       "    <tr>\n",
       "      <th>0</th>\n",
       "      <td>DOUGLAS</td>\n",
       "      <td>0</td>\n",
       "      <td>46004621.1581</td>\n",
       "      <td>0</td>\n",
       "      <td>35</td>\n",
       "      <td>35</td>\n",
       "      <td>0</td>\n",
       "      <td>0</td>\n",
       "      <td>31027.0545098</td>\n",
       "      <td>MULTIPOLYGON (((-87.60914 41.84469, -87.60915 ...</td>\n",
       "    </tr>\n",
       "    <tr>\n",
       "      <th>1</th>\n",
       "      <td>OAKLAND</td>\n",
       "      <td>0</td>\n",
       "      <td>16913961.0408</td>\n",
       "      <td>0</td>\n",
       "      <td>36</td>\n",
       "      <td>36</td>\n",
       "      <td>0</td>\n",
       "      <td>0</td>\n",
       "      <td>19565.5061533</td>\n",
       "      <td>MULTIPOLYGON (((-87.59215 41.81693, -87.59231 ...</td>\n",
       "    </tr>\n",
       "    <tr>\n",
       "      <th>2</th>\n",
       "      <td>FULLER PARK</td>\n",
       "      <td>0</td>\n",
       "      <td>19916704.8692</td>\n",
       "      <td>0</td>\n",
       "      <td>37</td>\n",
       "      <td>37</td>\n",
       "      <td>0</td>\n",
       "      <td>0</td>\n",
       "      <td>25339.0897503</td>\n",
       "      <td>MULTIPOLYGON (((-87.62880 41.80189, -87.62879 ...</td>\n",
       "    </tr>\n",
       "  </tbody>\n",
       "</table>\n",
       "</div>"
      ],
      "text/plain": [
       "     community area     shape_area perimeter  area_num_1 area_numbe  \\\n",
       "0      DOUGLAS    0  46004621.1581         0          35         35   \n",
       "1      OAKLAND    0  16913961.0408         0          36         36   \n",
       "2  FULLER PARK    0  19916704.8692         0          37         37   \n",
       "\n",
       "  comarea_id comarea      shape_len  \\\n",
       "0          0       0  31027.0545098   \n",
       "1          0       0  19565.5061533   \n",
       "2          0       0  25339.0897503   \n",
       "\n",
       "                                            geometry  \n",
       "0  MULTIPOLYGON (((-87.60914 41.84469, -87.60915 ...  \n",
       "1  MULTIPOLYGON (((-87.59215 41.81693, -87.59231 ...  \n",
       "2  MULTIPOLYGON (((-87.62880 41.80189, -87.62879 ...  "
      ]
     },
     "execution_count": 6,
     "metadata": {},
     "output_type": "execute_result"
    }
   ],
   "source": [
    "# inspecting community dataset\n",
    "community.head(3)"
   ]
  },
  {
   "cell_type": "code",
   "execution_count": 7,
   "id": "091afb7f",
   "metadata": {},
   "outputs": [
    {
     "data": {
      "text/html": [
       "<div>\n",
       "<style scoped>\n",
       "    .dataframe tbody tr th:only-of-type {\n",
       "        vertical-align: middle;\n",
       "    }\n",
       "\n",
       "    .dataframe tbody tr th {\n",
       "        vertical-align: top;\n",
       "    }\n",
       "\n",
       "    .dataframe thead th {\n",
       "        text-align: right;\n",
       "    }\n",
       "</style>\n",
       "<table border=\"1\" class=\"dataframe\">\n",
       "  <thead>\n",
       "    <tr style=\"text-align: right;\">\n",
       "      <th></th>\n",
       "      <th>Community Area Number</th>\n",
       "      <th>COMMUNITY AREA NAME</th>\n",
       "      <th>PERCENT OF HOUSING CROWDED</th>\n",
       "      <th>PERCENT HOUSEHOLDS BELOW POVERTY</th>\n",
       "      <th>PERCENT AGED 16+ UNEMPLOYED</th>\n",
       "      <th>PERCENT AGED 25+ WITHOUT HIGH SCHOOL DIPLOMA</th>\n",
       "      <th>PERCENT AGED UNDER 18 OR OVER 64</th>\n",
       "      <th>PER CAPITA INCOME</th>\n",
       "      <th>HARDSHIP INDEX</th>\n",
       "    </tr>\n",
       "  </thead>\n",
       "  <tbody>\n",
       "    <tr>\n",
       "      <th>0</th>\n",
       "      <td>1.0</td>\n",
       "      <td>Rogers Park</td>\n",
       "      <td>7.7</td>\n",
       "      <td>23.6</td>\n",
       "      <td>8.7</td>\n",
       "      <td>18.2</td>\n",
       "      <td>27.5</td>\n",
       "      <td>23939</td>\n",
       "      <td>39.0</td>\n",
       "    </tr>\n",
       "    <tr>\n",
       "      <th>1</th>\n",
       "      <td>2.0</td>\n",
       "      <td>West Ridge</td>\n",
       "      <td>7.8</td>\n",
       "      <td>17.2</td>\n",
       "      <td>8.8</td>\n",
       "      <td>20.8</td>\n",
       "      <td>38.5</td>\n",
       "      <td>23040</td>\n",
       "      <td>46.0</td>\n",
       "    </tr>\n",
       "    <tr>\n",
       "      <th>2</th>\n",
       "      <td>3.0</td>\n",
       "      <td>Uptown</td>\n",
       "      <td>3.8</td>\n",
       "      <td>24.0</td>\n",
       "      <td>8.9</td>\n",
       "      <td>11.8</td>\n",
       "      <td>22.2</td>\n",
       "      <td>35787</td>\n",
       "      <td>20.0</td>\n",
       "    </tr>\n",
       "  </tbody>\n",
       "</table>\n",
       "</div>"
      ],
      "text/plain": [
       "   Community Area Number COMMUNITY AREA NAME  PERCENT OF HOUSING CROWDED  \\\n",
       "0                    1.0         Rogers Park                         7.7   \n",
       "1                    2.0          West Ridge                         7.8   \n",
       "2                    3.0              Uptown                         3.8   \n",
       "\n",
       "   PERCENT HOUSEHOLDS BELOW POVERTY  PERCENT AGED 16+ UNEMPLOYED  \\\n",
       "0                              23.6                          8.7   \n",
       "1                              17.2                          8.8   \n",
       "2                              24.0                          8.9   \n",
       "\n",
       "   PERCENT AGED 25+ WITHOUT HIGH SCHOOL DIPLOMA  \\\n",
       "0                                          18.2   \n",
       "1                                          20.8   \n",
       "2                                          11.8   \n",
       "\n",
       "   PERCENT AGED UNDER 18 OR OVER 64  PER CAPITA INCOME   HARDSHIP INDEX  \n",
       "0                              27.5               23939            39.0  \n",
       "1                              38.5               23040            46.0  \n",
       "2                              22.2               35787            20.0  "
      ]
     },
     "execution_count": 7,
     "metadata": {},
     "output_type": "execute_result"
    }
   ],
   "source": [
    "#inspecting indicator dataframe\n",
    "indicator.head(3)"
   ]
  },
  {
   "cell_type": "code",
   "execution_count": 4,
   "id": "2741cddd",
   "metadata": {
    "scrolled": true
   },
   "outputs": [
    {
     "data": {
      "text/html": [
       "<div>\n",
       "<style scoped>\n",
       "    .dataframe tbody tr th:only-of-type {\n",
       "        vertical-align: middle;\n",
       "    }\n",
       "\n",
       "    .dataframe tbody tr th {\n",
       "        vertical-align: top;\n",
       "    }\n",
       "\n",
       "    .dataframe thead th {\n",
       "        text-align: right;\n",
       "    }\n",
       "</style>\n",
       "<table border=\"1\" class=\"dataframe\">\n",
       "  <thead>\n",
       "    <tr style=\"text-align: right;\">\n",
       "      <th></th>\n",
       "      <th>ID</th>\n",
       "      <th>Case Number</th>\n",
       "      <th>Date</th>\n",
       "      <th>Block</th>\n",
       "      <th>IUCR</th>\n",
       "      <th>Primary Type</th>\n",
       "      <th>Description</th>\n",
       "      <th>Location Description</th>\n",
       "      <th>Arrest</th>\n",
       "      <th>Domestic</th>\n",
       "      <th>...</th>\n",
       "      <th>Community Area</th>\n",
       "      <th>FBI Code</th>\n",
       "      <th>X Coordinate</th>\n",
       "      <th>Y Coordinate</th>\n",
       "      <th>Year</th>\n",
       "      <th>Updated On</th>\n",
       "      <th>Latitude</th>\n",
       "      <th>Longitude</th>\n",
       "      <th>Location</th>\n",
       "      <th>geometry</th>\n",
       "    </tr>\n",
       "  </thead>\n",
       "  <tbody>\n",
       "    <tr>\n",
       "      <th>0</th>\n",
       "      <td>12260346</td>\n",
       "      <td>JE102126</td>\n",
       "      <td>01/03/2021 01:23:00 PM</td>\n",
       "      <td>070XX S EGGLESTON AVE</td>\n",
       "      <td>0486</td>\n",
       "      <td>BATTERY</td>\n",
       "      <td>DOMESTIC BATTERY SIMPLE</td>\n",
       "      <td>APARTMENT</td>\n",
       "      <td>False</td>\n",
       "      <td>True</td>\n",
       "      <td>...</td>\n",
       "      <td>68</td>\n",
       "      <td>08B</td>\n",
       "      <td>1174496.0</td>\n",
       "      <td>1858251.0</td>\n",
       "      <td>2021</td>\n",
       "      <td>01/16/2021 03:49:23 PM</td>\n",
       "      <td>41.766435</td>\n",
       "      <td>-87.635964</td>\n",
       "      <td>(41.766435144, -87.635963997)</td>\n",
       "      <td>POINT (-87.63596 41.76644)</td>\n",
       "    </tr>\n",
       "    <tr>\n",
       "      <th>1</th>\n",
       "      <td>12263464</td>\n",
       "      <td>JE105797</td>\n",
       "      <td>01/03/2021 06:59:00 AM</td>\n",
       "      <td>080XX S YALE AVE</td>\n",
       "      <td>0820</td>\n",
       "      <td>THEFT</td>\n",
       "      <td>$500 AND UNDER</td>\n",
       "      <td>RESIDENCE</td>\n",
       "      <td>False</td>\n",
       "      <td>False</td>\n",
       "      <td>...</td>\n",
       "      <td>44</td>\n",
       "      <td>06</td>\n",
       "      <td>1176011.0</td>\n",
       "      <td>1851718.0</td>\n",
       "      <td>2021</td>\n",
       "      <td>01/16/2021 03:49:23 PM</td>\n",
       "      <td>41.748474</td>\n",
       "      <td>-87.630607</td>\n",
       "      <td>(41.748473982, -87.630606588)</td>\n",
       "      <td>POINT (-87.63061 41.74847)</td>\n",
       "    </tr>\n",
       "    <tr>\n",
       "      <th>2</th>\n",
       "      <td>12259990</td>\n",
       "      <td>JE101773</td>\n",
       "      <td>01/03/2021 12:20:00 AM</td>\n",
       "      <td>056XX W WASHINGTON BLVD</td>\n",
       "      <td>0486</td>\n",
       "      <td>BATTERY</td>\n",
       "      <td>DOMESTIC BATTERY SIMPLE</td>\n",
       "      <td>APARTMENT</td>\n",
       "      <td>False</td>\n",
       "      <td>True</td>\n",
       "      <td>...</td>\n",
       "      <td>25</td>\n",
       "      <td>08B</td>\n",
       "      <td>1138722.0</td>\n",
       "      <td>1900183.0</td>\n",
       "      <td>2021</td>\n",
       "      <td>01/16/2021 03:49:23 PM</td>\n",
       "      <td>41.882224</td>\n",
       "      <td>-87.766076</td>\n",
       "      <td>(41.88222427, -87.766076162)</td>\n",
       "      <td>POINT (-87.76608 41.88222)</td>\n",
       "    </tr>\n",
       "  </tbody>\n",
       "</table>\n",
       "<p>3 rows × 23 columns</p>\n",
       "</div>"
      ],
      "text/plain": [
       "         ID Case Number                    Date                    Block  \\\n",
       "0  12260346    JE102126  01/03/2021 01:23:00 PM    070XX S EGGLESTON AVE   \n",
       "1  12263464    JE105797  01/03/2021 06:59:00 AM         080XX S YALE AVE   \n",
       "2  12259990    JE101773  01/03/2021 12:20:00 AM  056XX W WASHINGTON BLVD   \n",
       "\n",
       "   IUCR Primary Type              Description Location Description  Arrest  \\\n",
       "0  0486      BATTERY  DOMESTIC BATTERY SIMPLE            APARTMENT   False   \n",
       "1  0820        THEFT           $500 AND UNDER            RESIDENCE   False   \n",
       "2  0486      BATTERY  DOMESTIC BATTERY SIMPLE            APARTMENT   False   \n",
       "\n",
       "   Domestic  ...  Community Area  FBI Code  X Coordinate  Y Coordinate  Year  \\\n",
       "0      True  ...              68       08B     1174496.0     1858251.0  2021   \n",
       "1     False  ...              44        06     1176011.0     1851718.0  2021   \n",
       "2      True  ...              25       08B     1138722.0     1900183.0  2021   \n",
       "\n",
       "               Updated On   Latitude  Longitude  \\\n",
       "0  01/16/2021 03:49:23 PM  41.766435 -87.635964   \n",
       "1  01/16/2021 03:49:23 PM  41.748474 -87.630607   \n",
       "2  01/16/2021 03:49:23 PM  41.882224 -87.766076   \n",
       "\n",
       "                        Location                    geometry  \n",
       "0  (41.766435144, -87.635963997)  POINT (-87.63596 41.76644)  \n",
       "1  (41.748473982, -87.630606588)  POINT (-87.63061 41.74847)  \n",
       "2   (41.88222427, -87.766076162)  POINT (-87.76608 41.88222)  \n",
       "\n",
       "[3 rows x 23 columns]"
      ]
     },
     "execution_count": 4,
     "metadata": {},
     "output_type": "execute_result"
    }
   ],
   "source": [
    "# creating a geometry column using Longitude and Latitude columns\n",
    "crime = gpd.GeoDataFrame(\n",
    "        crime, geometry = gpd.points_from_xy(crime.Longitude, crime.Latitude), crs = community.crs)\n",
    "crime.head(3)"
   ]
  },
  {
   "cell_type": "code",
   "execution_count": 5,
   "id": "d3dd2e11",
   "metadata": {},
   "outputs": [
    {
     "data": {
      "text/html": [
       "<div>\n",
       "<style scoped>\n",
       "    .dataframe tbody tr th:only-of-type {\n",
       "        vertical-align: middle;\n",
       "    }\n",
       "\n",
       "    .dataframe tbody tr th {\n",
       "        vertical-align: top;\n",
       "    }\n",
       "\n",
       "    .dataframe thead th {\n",
       "        text-align: right;\n",
       "    }\n",
       "</style>\n",
       "<table border=\"1\" class=\"dataframe\">\n",
       "  <thead>\n",
       "    <tr style=\"text-align: right;\">\n",
       "      <th></th>\n",
       "      <th>community</th>\n",
       "      <th>area</th>\n",
       "      <th>shape_area</th>\n",
       "      <th>perimeter</th>\n",
       "      <th>area_num_1</th>\n",
       "      <th>area_numbe</th>\n",
       "      <th>comarea_id</th>\n",
       "      <th>comarea</th>\n",
       "      <th>shape_len</th>\n",
       "      <th>geometry</th>\n",
       "      <th>No.</th>\n",
       "      <th>Name</th>\n",
       "      <th>Population</th>\n",
       "      <th>Community Area Number</th>\n",
       "      <th>PERCENT AGED 16+ UNEMPLOYED</th>\n",
       "    </tr>\n",
       "  </thead>\n",
       "  <tbody>\n",
       "    <tr>\n",
       "      <th>0</th>\n",
       "      <td>DOUGLAS</td>\n",
       "      <td>0</td>\n",
       "      <td>46004621.1581</td>\n",
       "      <td>0</td>\n",
       "      <td>35</td>\n",
       "      <td>35</td>\n",
       "      <td>0</td>\n",
       "      <td>0</td>\n",
       "      <td>31027.0545098</td>\n",
       "      <td>MULTIPOLYGON (((-87.60914 41.84469, -87.60915 ...</td>\n",
       "      <td>35</td>\n",
       "      <td>Douglas</td>\n",
       "      <td>20291</td>\n",
       "      <td>35.0</td>\n",
       "      <td>18.2</td>\n",
       "    </tr>\n",
       "    <tr>\n",
       "      <th>1</th>\n",
       "      <td>OAKLAND</td>\n",
       "      <td>0</td>\n",
       "      <td>16913961.0408</td>\n",
       "      <td>0</td>\n",
       "      <td>36</td>\n",
       "      <td>36</td>\n",
       "      <td>0</td>\n",
       "      <td>0</td>\n",
       "      <td>19565.5061533</td>\n",
       "      <td>MULTIPOLYGON (((-87.59215 41.81693, -87.59231 ...</td>\n",
       "      <td>36</td>\n",
       "      <td>Oakland</td>\n",
       "      <td>6799</td>\n",
       "      <td>36.0</td>\n",
       "      <td>28.7</td>\n",
       "    </tr>\n",
       "    <tr>\n",
       "      <th>2</th>\n",
       "      <td>FULLER PARK</td>\n",
       "      <td>0</td>\n",
       "      <td>19916704.8692</td>\n",
       "      <td>0</td>\n",
       "      <td>37</td>\n",
       "      <td>37</td>\n",
       "      <td>0</td>\n",
       "      <td>0</td>\n",
       "      <td>25339.0897503</td>\n",
       "      <td>MULTIPOLYGON (((-87.62880 41.80189, -87.62879 ...</td>\n",
       "      <td>37</td>\n",
       "      <td>Fuller Park</td>\n",
       "      <td>2567</td>\n",
       "      <td>37.0</td>\n",
       "      <td>33.9</td>\n",
       "    </tr>\n",
       "  </tbody>\n",
       "</table>\n",
       "</div>"
      ],
      "text/plain": [
       "     community area     shape_area perimeter  area_num_1 area_numbe  \\\n",
       "0      DOUGLAS    0  46004621.1581         0          35         35   \n",
       "1      OAKLAND    0  16913961.0408         0          36         36   \n",
       "2  FULLER PARK    0  19916704.8692         0          37         37   \n",
       "\n",
       "  comarea_id comarea      shape_len  \\\n",
       "0          0       0  31027.0545098   \n",
       "1          0       0  19565.5061533   \n",
       "2          0       0  25339.0897503   \n",
       "\n",
       "                                            geometry  No.         Name  \\\n",
       "0  MULTIPOLYGON (((-87.60914 41.84469, -87.60915 ...   35      Douglas   \n",
       "1  MULTIPOLYGON (((-87.59215 41.81693, -87.59231 ...   36      Oakland   \n",
       "2  MULTIPOLYGON (((-87.62880 41.80189, -87.62879 ...   37  Fuller Park   \n",
       "\n",
       "   Population  Community Area Number  PERCENT AGED 16+ UNEMPLOYED  \n",
       "0       20291                   35.0                         18.2  \n",
       "1        6799                   36.0                         28.7  \n",
       "2        2567                   37.0                         33.9  "
      ]
     },
     "execution_count": 5,
     "metadata": {},
     "output_type": "execute_result"
    }
   ],
   "source": [
    "# subseting indicator dataframe to create unemployment dataframe\n",
    "unemployment = indicator[['Community Area Number','PERCENT AGED 16+ UNEMPLOYED']]\n",
    "\n",
    "# merging population dataframe with community and unemployment  dataframe\n",
    "community = community.merge(population, left_on = 'area_num_1', right_on = 'No.')\n",
    "community = community.merge(unemployment, left_on = 'area_num_1', right_on = 'Community Area Number')\n",
    "community.head(3)"
   ]
  },
  {
   "cell_type": "code",
   "execution_count": 6,
   "id": "c68c35df",
   "metadata": {},
   "outputs": [
    {
     "data": {
      "text/plain": [
       "0"
      ]
     },
     "execution_count": 6,
     "metadata": {},
     "output_type": "execute_result"
    }
   ],
   "source": [
    "# checking for duplicates\n",
    "sum(crime.duplicated())"
   ]
  },
  {
   "cell_type": "code",
   "execution_count": 7,
   "id": "26c2c46a",
   "metadata": {},
   "outputs": [
    {
     "data": {
      "text/plain": [
       "0"
      ]
     },
     "execution_count": 7,
     "metadata": {},
     "output_type": "execute_result"
    }
   ],
   "source": [
    "# checking for duplicates\n",
    "sum(community.duplicated())"
   ]
  },
  {
   "cell_type": "code",
   "execution_count": 8,
   "id": "490f6ec2",
   "metadata": {},
   "outputs": [],
   "source": [
    "# droping column that are not needed for analysis\n",
    "crime.drop(['Case Number','Block','IUCR','Description','Location Description',\n",
    "            'Domestic','Beat','District','Ward','FBI Code','X Coordinate', \n",
    "            'Y Coordinate', 'Year', 'Updated On','Location'],axis = 1, inplace = True)\n",
    "\n",
    "community.drop(['area', 'shape_area', 'perimeter',\n",
    "       'area_numbe', 'comarea_id', 'comarea', 'shape_len',\n",
    "                'No.', 'Name', 'Community Area Number'], axis = 1, inplace = True)"
   ]
  },
  {
   "cell_type": "code",
   "execution_count": 9,
   "id": "6b442ab0",
   "metadata": {},
   "outputs": [
    {
     "data": {
      "text/plain": [
       "ID                False\n",
       "Date              False\n",
       "Primary Type      False\n",
       "Arrest            False\n",
       "Community Area    False\n",
       "Latitude           True\n",
       "Longitude          True\n",
       "geometry          False\n",
       "dtype: bool"
      ]
     },
     "execution_count": 9,
     "metadata": {},
     "output_type": "execute_result"
    }
   ],
   "source": [
    "# checking for null values\n",
    "crime.isna().any()"
   ]
  },
  {
   "cell_type": "code",
   "execution_count": 10,
   "id": "589bb0bc",
   "metadata": {},
   "outputs": [
    {
     "data": {
      "text/plain": [
       "community                      False\n",
       "area_num_1                     False\n",
       "geometry                       False\n",
       "Population                     False\n",
       "PERCENT AGED 16+ UNEMPLOYED    False\n",
       "dtype: bool"
      ]
     },
     "execution_count": 10,
     "metadata": {},
     "output_type": "execute_result"
    }
   ],
   "source": [
    "#checking for null values\n",
    "community.isna().any()"
   ]
  },
  {
   "cell_type": "code",
   "execution_count": 11,
   "id": "e05a70b3",
   "metadata": {},
   "outputs": [
    {
     "data": {
      "text/plain": [
       "0"
      ]
     },
     "execution_count": 11,
     "metadata": {},
     "output_type": "execute_result"
    }
   ],
   "source": [
    "# droping null values\n",
    "crime.dropna(inplace = True)\n",
    "crime.isna().sum().sum()"
   ]
  },
  {
   "cell_type": "code",
   "execution_count": 12,
   "id": "88420172",
   "metadata": {},
   "outputs": [],
   "source": [
    "# extracting Month from date column\n",
    "crime['Month'] = pd.to_datetime(crime['Date']).dt.month"
   ]
  },
  {
   "cell_type": "code",
   "execution_count": 13,
   "id": "c99078bb",
   "metadata": {},
   "outputs": [
    {
     "name": "stdout",
     "output_type": "stream",
     "text": [
      "<class 'geopandas.geodataframe.GeoDataFrame'>\n",
      "Int64Index: 202921 entries, 0 to 207723\n",
      "Data columns (total 9 columns):\n",
      " #   Column          Non-Null Count   Dtype   \n",
      "---  ------          --------------   -----   \n",
      " 0   ID              202921 non-null  int64   \n",
      " 1   Date            202921 non-null  object  \n",
      " 2   Primary Type    202921 non-null  object  \n",
      " 3   Arrest          202921 non-null  bool    \n",
      " 4   Community Area  202921 non-null  int64   \n",
      " 5   Latitude        202921 non-null  float64 \n",
      " 6   Longitude       202921 non-null  float64 \n",
      " 7   geometry        202921 non-null  geometry\n",
      " 8   Month           202921 non-null  int64   \n",
      "dtypes: bool(1), float64(2), geometry(1), int64(3), object(2)\n",
      "memory usage: 14.1+ MB\n"
     ]
    }
   ],
   "source": [
    "# inspecting cleaned dataframe\n",
    "crime.info()"
   ]
  },
  {
   "cell_type": "code",
   "execution_count": 14,
   "id": "d429f3f2",
   "metadata": {},
   "outputs": [
    {
     "name": "stdout",
     "output_type": "stream",
     "text": [
      "<class 'geopandas.geodataframe.GeoDataFrame'>\n",
      "Int64Index: 77 entries, 0 to 76\n",
      "Data columns (total 5 columns):\n",
      " #   Column                       Non-Null Count  Dtype   \n",
      "---  ------                       --------------  -----   \n",
      " 0   community                    77 non-null     object  \n",
      " 1   area_num_1                   77 non-null     int64   \n",
      " 2   geometry                     77 non-null     geometry\n",
      " 3   Population                   77 non-null     int64   \n",
      " 4   PERCENT AGED 16+ UNEMPLOYED  77 non-null     float64 \n",
      "dtypes: float64(1), geometry(1), int64(2), object(1)\n",
      "memory usage: 3.6+ KB\n"
     ]
    }
   ],
   "source": [
    "# inspecting cleaned dataframe\n",
    "community.info()"
   ]
  },
  {
   "cell_type": "markdown",
   "id": "90cdde30",
   "metadata": {},
   "source": [
    "# Exploratory Data Analysis"
   ]
  },
  {
   "cell_type": "markdown",
   "id": "75621200",
   "metadata": {},
   "source": [
    "## 1. How did crime change over time "
   ]
  },
  {
   "cell_type": "code",
   "execution_count": 27,
   "id": "26fd46d1",
   "metadata": {},
   "outputs": [
    {
     "data": {
      "text/plain": [
       "Month\n",
       "1     15917\n",
       "2     12810\n",
       "3     15650\n",
       "4     15200\n",
       "5     17429\n",
       "6     18420\n",
       "7     18791\n",
       "8     18104\n",
       "9     18844\n",
       "10    18856\n",
       "11    16837\n",
       "12    16063\n",
       "Name: ID, dtype: int64"
      ]
     },
     "execution_count": 27,
     "metadata": {},
     "output_type": "execute_result"
    }
   ],
   "source": [
    "crime_per_month = crime.groupby('Month').ID.count()\n",
    "crime_per_month"
   ]
  },
  {
   "cell_type": "code",
   "execution_count": 28,
   "id": "edfb4b43",
   "metadata": {},
   "outputs": [
    {
     "data": {
      "text/plain": [
       "Text(0, 0.5, 'Crime Count')"
      ]
     },
     "execution_count": 28,
     "metadata": {},
     "output_type": "execute_result"
    },
    {
     "data": {
      "image/png": "[encoded data removed]",
      "text/plain": [
       "<Figure size 720x432 with 1 Axes>"
      ]
     },
     "metadata": {
      "needs_background": "light"
     },
     "output_type": "display_data"
    }
   ],
   "source": [
    "crime_per_month.plot(kind = 'line', figsize=(10,6))\n",
    "plt.title('Crime Count by Month')\n",
    "plt.xlabel('Month')\n",
    "plt.ylabel('Crime Count')"
   ]
  },
  {
   "cell_type": "markdown",
   "id": "48671058",
   "metadata": {},
   "source": [
    "## 2. Top 5 Crime by Primary Type"
   ]
  },
  {
   "cell_type": "code",
   "execution_count": 29,
   "id": "d6baa5c8",
   "metadata": {},
   "outputs": [
    {
     "data": {
      "text/plain": [
       "Primary Type\n",
       "BATTERY               40319\n",
       "THEFT                 39259\n",
       "CRIMINAL DAMAGE       24849\n",
       "ASSAULT               20256\n",
       "DECEPTIVE PRACTICE    15660\n",
       "Name: ID, dtype: int64"
      ]
     },
     "execution_count": 29,
     "metadata": {},
     "output_type": "execute_result"
    }
   ],
   "source": [
    "top5_crime = crime.groupby('Primary Type').ID.count().sort_values(ascending = False)[0:5]\n",
    "top5_crime"
   ]
  },
  {
   "cell_type": "code",
   "execution_count": 32,
   "id": "42bce89d",
   "metadata": {},
   "outputs": [
    {
     "data": {
      "text/plain": [
       "<AxesSubplot:xlabel='Primary Type'>"
      ]
     },
     "execution_count": 32,
     "metadata": {},
     "output_type": "execute_result"
    },
    {
     "data": {
      "image/png": "[encoded data removed]",
      "text/plain": [
       "<Figure size 432x288 with 1 Axes>"
      ]
     },
     "metadata": {
      "needs_background": "light"
     },
     "output_type": "display_data"
    }
   ],
   "source": [
    "top5_crime.plot(kind='bar')"
   ]
  },
  {
   "cell_type": "markdown",
   "id": "ca56e65c",
   "metadata": {},
   "source": [
    "## 3. What is the crime rate in each community\n",
    "* Crime rate is expressed by dividing the total number of reported crimes of any place by the total population, then multiplying by 100,000. This will make crime more comparable between areas with low and high population"
   ]
  },
  {
   "cell_type": "code",
   "execution_count": 16,
   "id": "f753b03a",
   "metadata": {},
   "outputs": [],
   "source": [
    "#joining crime with community based on their spatial relationship (intersection)\n",
    "community_count = community.sjoin(crime, how = 'left')\n",
    "community_count = community_count.groupby('community').ID.count()\n",
    "community_count = pd.DataFrame(community_count)\n",
    "community_count = community_count.reset_index()"
   ]
  },
  {
   "cell_type": "code",
   "execution_count": 19,
   "id": "bff69b93",
   "metadata": {},
   "outputs": [
    {
     "data": {
      "text/html": [
       "<div>\n",
       "<style scoped>\n",
       "    .dataframe tbody tr th:only-of-type {\n",
       "        vertical-align: middle;\n",
       "    }\n",
       "\n",
       "    .dataframe tbody tr th {\n",
       "        vertical-align: top;\n",
       "    }\n",
       "\n",
       "    .dataframe thead th {\n",
       "        text-align: right;\n",
       "    }\n",
       "</style>\n",
       "<table border=\"1\" class=\"dataframe\">\n",
       "  <thead>\n",
       "    <tr style=\"text-align: right;\">\n",
       "      <th></th>\n",
       "      <th>community</th>\n",
       "      <th>Crime Rate</th>\n",
       "    </tr>\n",
       "  </thead>\n",
       "  <tbody>\n",
       "    <tr>\n",
       "      <th>26</th>\n",
       "      <td>WEST GARFIELD PARK</td>\n",
       "      <td>23025.297</td>\n",
       "    </tr>\n",
       "    <tr>\n",
       "      <th>65</th>\n",
       "      <td>ENGLEWOOD</td>\n",
       "      <td>19561.738</td>\n",
       "    </tr>\n",
       "    <tr>\n",
       "      <th>2</th>\n",
       "      <td>FULLER PARK</td>\n",
       "      <td>19516.946</td>\n",
       "    </tr>\n",
       "    <tr>\n",
       "      <th>27</th>\n",
       "      <td>EAST GARFIELD PARK</td>\n",
       "      <td>18322.329</td>\n",
       "    </tr>\n",
       "    <tr>\n",
       "      <th>29</th>\n",
       "      <td>NORTH LAWNDALE</td>\n",
       "      <td>17747.313</td>\n",
       "    </tr>\n",
       "  </tbody>\n",
       "</table>\n",
       "</div>"
      ],
      "text/plain": [
       "             community  Crime Rate\n",
       "26  WEST GARFIELD PARK   23025.297\n",
       "65           ENGLEWOOD   19561.738\n",
       "2          FULLER PARK   19516.946\n",
       "27  EAST GARFIELD PARK   18322.329\n",
       "29      NORTH LAWNDALE   17747.313"
      ]
     },
     "execution_count": 19,
     "metadata": {},
     "output_type": "execute_result"
    }
   ],
   "source": [
    "# merging crime count in each community with the community dataframe\n",
    "community_count.rename(columns = {'ID': 'Crime Count'}, inplace = True)\n",
    "community = community.merge(community_count, left_on = 'community', right_on = 'community')\n",
    "community['Crime Rate'] = (community['Crime Count']/community['Population'])*100000\n",
    "community['Crime Rate']=community['Crime Rate'].round(decimals = 3)\n",
    "community.sort_values('Crime Rate', ascending = False, inplace =  True)\n",
    "community[['community','Crime Rate']].head(5)"
   ]
  },
  {
   "cell_type": "markdown",
   "id": "59f19505",
   "metadata": {},
   "source": [
    "## 4. How many arrests were made"
   ]
  },
  {
   "cell_type": "code",
   "execution_count": 24,
   "id": "a1355416",
   "metadata": {
    "scrolled": true
   },
   "outputs": [
    {
     "data": {
      "text/plain": [
       "False    178093\n",
       "True      24828\n",
       "Name: Arrest, dtype: int64"
      ]
     },
     "execution_count": 24,
     "metadata": {},
     "output_type": "execute_result"
    }
   ],
   "source": [
    "arrest = crime.Arrest.value_counts()\n",
    "arrest"
   ]
  },
  {
   "cell_type": "code",
   "execution_count": 25,
   "id": "afe70ff0",
   "metadata": {},
   "outputs": [
    {
     "data": {
      "text/plain": [
       "<AxesSubplot:ylabel='Arrest'>"
      ]
     },
     "execution_count": 25,
     "metadata": {},
     "output_type": "execute_result"
    },
    {
     "data": {
      "image/png": "[encoded data removed]",
      "text/plain": [
       "<Figure size 432x288 with 1 Axes>"
      ]
     },
     "metadata": {},
     "output_type": "display_data"
    }
   ],
   "source": [
    "arrest.plot.pie()"
   ]
  },
  {
   "cell_type": "markdown",
   "id": "89771f23",
   "metadata": {},
   "source": [
    "## 5. What is the relationship between crime rate and unemployment"
   ]
  },
  {
   "cell_type": "code",
   "execution_count": 37,
   "id": "4c977bfb",
   "metadata": {},
   "outputs": [
    {
     "data": {
      "image/png": "[encoded data removed]",
      "text/plain": [
       "<Figure size 432x288 with 1 Axes>"
      ]
     },
     "metadata": {
      "needs_background": "light"
     },
     "output_type": "display_data"
    }
   ],
   "source": [
    "x = community['PERCENT AGED 16+ UNEMPLOYED']\n",
    "y = community['Crime Rate']\n",
    "plt.scatter(x,y)\n",
    "z = np.polyfit(x, y, 1)\n",
    "p = np.poly1d(z)\n",
    "plt.plot(x,p(x),\"r--\")\n",
    "\n",
    "plt.title('Crime Rate vs Unemployment')\n",
    "plt.xlabel('Percent Aged 16+ Unemployed')\n",
    "plt.ylabel('Crime Rate')\n",
    "\n",
    "\n",
    "plt.show()\n"
   ]
  },
  {
   "cell_type": "code",
   "execution_count": 38,
   "id": "02c7a4a6",
   "metadata": {},
   "outputs": [
    {
     "data": {
      "text/html": [
       "<div>\n",
       "<style scoped>\n",
       "    .dataframe tbody tr th:only-of-type {\n",
       "        vertical-align: middle;\n",
       "    }\n",
       "\n",
       "    .dataframe tbody tr th {\n",
       "        vertical-align: top;\n",
       "    }\n",
       "\n",
       "    .dataframe thead th {\n",
       "        text-align: right;\n",
       "    }\n",
       "</style>\n",
       "<table border=\"1\" class=\"dataframe\">\n",
       "  <thead>\n",
       "    <tr style=\"text-align: right;\">\n",
       "      <th></th>\n",
       "      <th>PERCENT AGED 16+ UNEMPLOYED</th>\n",
       "      <th>Crime Rate</th>\n",
       "    </tr>\n",
       "  </thead>\n",
       "  <tbody>\n",
       "    <tr>\n",
       "      <th>PERCENT AGED 16+ UNEMPLOYED</th>\n",
       "      <td>1.000000</td>\n",
       "      <td>0.768169</td>\n",
       "    </tr>\n",
       "    <tr>\n",
       "      <th>Crime Rate</th>\n",
       "      <td>0.768169</td>\n",
       "      <td>1.000000</td>\n",
       "    </tr>\n",
       "  </tbody>\n",
       "</table>\n",
       "</div>"
      ],
      "text/plain": [
       "                             PERCENT AGED 16+ UNEMPLOYED  Crime Rate\n",
       "PERCENT AGED 16+ UNEMPLOYED                     1.000000    0.768169\n",
       "Crime Rate                                      0.768169    1.000000"
      ]
     },
     "execution_count": 38,
     "metadata": {},
     "output_type": "execute_result"
    }
   ],
   "source": [
    "community[['PERCENT AGED 16+ UNEMPLOYED','Crime Rate']].corr()"
   ]
  },
  {
   "cell_type": "markdown",
   "id": "73d43507",
   "metadata": {},
   "source": [
    "## Conclusions\n",
    "Finally, here ends the analysis of chicago crime data for the year 2021. Through this analysis, I was able to get the following insights:\n",
    "* Battery had the highest count of primary type of crime at 40,319, followed by Theft and Criminal Damage. Other Narcotic Violation had the lowest count at 2.\n",
    "* There is a strong positive correlation between unemployment and crime rate; that is, high unemployment rate leads to high crime rate.\n",
    "* February had the lowest crime count (12810), while October had the highest crime count (18856).\n",
    "* West Garfield Park had the highest crime rate amongnst the communities \n",
    "\n",
    "I hereby recommend that Chicago Police Department should focus on communities with high crime rates, furthermore, government should organise campaign against crime and control unemployment through incentives and fiscal policy."
   ]
  },
  {
   "cell_type": "code",
   "execution_count": null,
   "id": "703f7596",
   "metadata": {},
   "outputs": [],
   "source": []
  }
 ],
 "metadata": {
  "kernelspec": {
   "display_name": "Python 3 (ipykernel)",
   "language": "python",
   "name": "python3"
  },
  "language_info": {
   "codemirror_mode": {
    "name": "ipython",
    "version": 3
   },
   "file_extension": ".py",
   "mimetype": "text/x-python",
   "name": "python",
   "nbconvert_exporter": "python",
   "pygments_lexer": "ipython3",
   "version": "3.9.12"
  }
 },
 "nbformat": 4,
 "nbformat_minor": 5
}
